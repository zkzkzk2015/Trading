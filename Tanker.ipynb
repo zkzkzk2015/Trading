{
 "cells": [
  {
   "cell_type": "code",
   "execution_count": 1,
   "metadata": {},
   "outputs": [
    {
     "name": "stderr",
     "output_type": "stream",
     "text": [
      "/home/gri/.local/lib/python3.6/site-packages/pandas_datareader/compat/__init__.py:7: FutureWarning: pandas.util.testing is deprecated. Use the functions in the public API at pandas.testing instead.\n",
      "  from pandas.util.testing import assert_frame_equal\n"
     ]
    }
   ],
   "source": [
    "import numpy as np\n",
    "from pandas_datareader import data as wb\n",
    "import pandas as pd"
   ]
  },
  {
   "cell_type": "code",
   "execution_count": 2,
   "metadata": {},
   "outputs": [],
   "source": [
    "tickers = ['FRO','NAT','DHT','EURN','INSW','STNG']\n",
    "new_data = pd.DataFrame()\n",
    "for t in tickers:\n",
    "    new_data[t] = wb.DataReader(t,data_source='yahoo', start='2016-1-1')['Adj Close']"
   ]
  },
  {
   "cell_type": "code",
   "execution_count": 3,
   "metadata": {},
   "outputs": [
    {
     "data": {
      "text/html": [
       "<div>\n",
       "<style scoped>\n",
       "    .dataframe tbody tr th:only-of-type {\n",
       "        vertical-align: middle;\n",
       "    }\n",
       "\n",
       "    .dataframe tbody tr th {\n",
       "        vertical-align: top;\n",
       "    }\n",
       "\n",
       "    .dataframe thead th {\n",
       "        text-align: right;\n",
       "    }\n",
       "</style>\n",
       "<table border=\"1\" class=\"dataframe\">\n",
       "  <thead>\n",
       "    <tr style=\"text-align: right;\">\n",
       "      <th></th>\n",
       "      <th>FRO</th>\n",
       "      <th>NAT</th>\n",
       "      <th>DHT</th>\n",
       "      <th>EURN</th>\n",
       "      <th>INSW</th>\n",
       "      <th>STNG</th>\n",
       "    </tr>\n",
       "    <tr>\n",
       "      <th>Date</th>\n",
       "      <th></th>\n",
       "      <th></th>\n",
       "      <th></th>\n",
       "      <th></th>\n",
       "      <th></th>\n",
       "      <th></th>\n",
       "    </tr>\n",
       "  </thead>\n",
       "  <tbody>\n",
       "    <tr>\n",
       "      <th>2016-01-04</th>\n",
       "      <td>10.520770</td>\n",
       "      <td>10.672318</td>\n",
       "      <td>5.534191</td>\n",
       "      <td>10.344880</td>\n",
       "      <td>NaN</td>\n",
       "      <td>71.716026</td>\n",
       "    </tr>\n",
       "    <tr>\n",
       "      <th>2016-01-05</th>\n",
       "      <td>9.910352</td>\n",
       "      <td>10.594777</td>\n",
       "      <td>5.293882</td>\n",
       "      <td>9.975422</td>\n",
       "      <td>NaN</td>\n",
       "      <td>69.080795</td>\n",
       "    </tr>\n",
       "    <tr>\n",
       "      <th>2016-01-06</th>\n",
       "      <td>9.264024</td>\n",
       "      <td>10.601826</td>\n",
       "      <td>5.223202</td>\n",
       "      <td>9.698327</td>\n",
       "      <td>NaN</td>\n",
       "      <td>66.916153</td>\n",
       "    </tr>\n",
       "    <tr>\n",
       "      <th>2016-01-07</th>\n",
       "      <td>8.438161</td>\n",
       "      <td>10.383305</td>\n",
       "      <td>5.081844</td>\n",
       "      <td>9.482809</td>\n",
       "      <td>NaN</td>\n",
       "      <td>63.339756</td>\n",
       "    </tr>\n",
       "    <tr>\n",
       "      <th>2016-01-08</th>\n",
       "      <td>8.797231</td>\n",
       "      <td>10.326913</td>\n",
       "      <td>5.018232</td>\n",
       "      <td>9.290380</td>\n",
       "      <td>NaN</td>\n",
       "      <td>61.645668</td>\n",
       "    </tr>\n",
       "  </tbody>\n",
       "</table>\n",
       "</div>"
      ],
      "text/plain": [
       "                  FRO        NAT       DHT       EURN  INSW       STNG\n",
       "Date                                                                  \n",
       "2016-01-04  10.520770  10.672318  5.534191  10.344880   NaN  71.716026\n",
       "2016-01-05   9.910352  10.594777  5.293882   9.975422   NaN  69.080795\n",
       "2016-01-06   9.264024  10.601826  5.223202   9.698327   NaN  66.916153\n",
       "2016-01-07   8.438161  10.383305  5.081844   9.482809   NaN  63.339756\n",
       "2016-01-08   8.797231  10.326913  5.018232   9.290380   NaN  61.645668"
      ]
     },
     "execution_count": 3,
     "metadata": {},
     "output_type": "execute_result"
    }
   ],
   "source": [
    "new_data.head()"
   ]
  },
  {
   "cell_type": "code",
   "execution_count": null,
   "metadata": {},
   "outputs": [],
   "source": []
  },
  {
   "cell_type": "code",
   "execution_count": null,
   "metadata": {},
   "outputs": [],
   "source": []
  },
  {
   "cell_type": "code",
   "execution_count": null,
   "metadata": {},
   "outputs": [],
   "source": []
  }
 ],
 "metadata": {
  "kernelspec": {
   "display_name": "Python 3",
   "language": "python",
   "name": "python3"
  },
  "language_info": {
   "codemirror_mode": {
    "name": "ipython",
    "version": 3
   },
   "file_extension": ".py",
   "mimetype": "text/x-python",
   "name": "python",
   "nbconvert_exporter": "python",
   "pygments_lexer": "ipython3",
   "version": "3.6.9"
  }
 },
 "nbformat": 4,
 "nbformat_minor": 2
}
