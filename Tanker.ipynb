{
 "cells": [
  {
   "cell_type": "code",
   "execution_count": 1,
   "metadata": {},
   "outputs": [
    {
     "name": "stderr",
     "output_type": "stream",
     "text": [
      "/home/gri/.local/lib/python3.6/site-packages/pandas_datareader/compat/__init__.py:7: FutureWarning: pandas.util.testing is deprecated. Use the functions in the public API at pandas.testing instead.\n",
      "  from pandas.util.testing import assert_frame_equal\n"
     ]
    }
   ],
   "source": [
    "import numpy as np\n",
    "from pandas_datareader import data as wb\n",
    "import pandas as pd"
   ]
  },
  {
   "cell_type": "code",
   "execution_count": 2,
   "metadata": {},
   "outputs": [],
   "source": [
    "tickers = ['FRO','NAT','DHT','EURN','INSW','STNG','TNK']\n",
    "new_data = pd.DataFrame()\n",
    "for t in tickers:\n",
    "    new_data[t] = wb.DataReader(t,data_source='yahoo', start='2010-1-1')['Adj Close']"
   ]
  },
  {
   "cell_type": "code",
   "execution_count": 3,
   "metadata": {},
   "outputs": [
    {
     "data": {
      "text/html": [
       "<div>\n",
       "<style scoped>\n",
       "    .dataframe tbody tr th:only-of-type {\n",
       "        vertical-align: middle;\n",
       "    }\n",
       "\n",
       "    .dataframe tbody tr th {\n",
       "        vertical-align: top;\n",
       "    }\n",
       "\n",
       "    .dataframe thead th {\n",
       "        text-align: right;\n",
       "    }\n",
       "</style>\n",
       "<table border=\"1\" class=\"dataframe\">\n",
       "  <thead>\n",
       "    <tr style=\"text-align: right;\">\n",
       "      <th></th>\n",
       "      <th>FRO</th>\n",
       "      <th>NAT</th>\n",
       "      <th>DHT</th>\n",
       "      <th>EURN</th>\n",
       "      <th>INSW</th>\n",
       "      <th>STNG</th>\n",
       "      <th>TNK</th>\n",
       "    </tr>\n",
       "    <tr>\n",
       "      <th>Date</th>\n",
       "      <th></th>\n",
       "      <th></th>\n",
       "      <th></th>\n",
       "      <th></th>\n",
       "      <th></th>\n",
       "      <th></th>\n",
       "      <th></th>\n",
       "    </tr>\n",
       "  </thead>\n",
       "  <tbody>\n",
       "    <tr>\n",
       "      <th>2020-06-30</th>\n",
       "      <td>6.98</td>\n",
       "      <td>4.06</td>\n",
       "      <td>5.13</td>\n",
       "      <td>8.15</td>\n",
       "      <td>16.340000</td>\n",
       "      <td>12.81</td>\n",
       "      <td>12.82</td>\n",
       "    </tr>\n",
       "    <tr>\n",
       "      <th>2020-07-01</th>\n",
       "      <td>7.43</td>\n",
       "      <td>4.21</td>\n",
       "      <td>5.38</td>\n",
       "      <td>8.33</td>\n",
       "      <td>17.139999</td>\n",
       "      <td>13.69</td>\n",
       "      <td>13.09</td>\n",
       "    </tr>\n",
       "    <tr>\n",
       "      <th>2020-07-02</th>\n",
       "      <td>6.97</td>\n",
       "      <td>4.06</td>\n",
       "      <td>5.10</td>\n",
       "      <td>8.15</td>\n",
       "      <td>15.730000</td>\n",
       "      <td>13.05</td>\n",
       "      <td>12.51</td>\n",
       "    </tr>\n",
       "    <tr>\n",
       "      <th>2020-07-06</th>\n",
       "      <td>7.43</td>\n",
       "      <td>4.18</td>\n",
       "      <td>5.36</td>\n",
       "      <td>8.60</td>\n",
       "      <td>16.570000</td>\n",
       "      <td>13.59</td>\n",
       "      <td>13.44</td>\n",
       "    </tr>\n",
       "    <tr>\n",
       "      <th>2020-07-07</th>\n",
       "      <td>7.10</td>\n",
       "      <td>4.05</td>\n",
       "      <td>5.19</td>\n",
       "      <td>8.49</td>\n",
       "      <td>15.720000</td>\n",
       "      <td>13.12</td>\n",
       "      <td>12.93</td>\n",
       "    </tr>\n",
       "  </tbody>\n",
       "</table>\n",
       "</div>"
      ],
      "text/plain": [
       "             FRO   NAT   DHT  EURN       INSW   STNG    TNK\n",
       "Date                                                       \n",
       "2020-06-30  6.98  4.06  5.13  8.15  16.340000  12.81  12.82\n",
       "2020-07-01  7.43  4.21  5.38  8.33  17.139999  13.69  13.09\n",
       "2020-07-02  6.97  4.06  5.10  8.15  15.730000  13.05  12.51\n",
       "2020-07-06  7.43  4.18  5.36  8.60  16.570000  13.59  13.44\n",
       "2020-07-07  7.10  4.05  5.19  8.49  15.720000  13.12  12.93"
      ]
     },
     "execution_count": 3,
     "metadata": {},
     "output_type": "execute_result"
    }
   ],
   "source": [
    "new_data.tail()"
   ]
  },
  {
   "cell_type": "code",
   "execution_count": 4,
   "metadata": {},
   "outputs": [
    {
     "data": {
      "text/html": [
       "<div>\n",
       "<style scoped>\n",
       "    .dataframe tbody tr th:only-of-type {\n",
       "        vertical-align: middle;\n",
       "    }\n",
       "\n",
       "    .dataframe tbody tr th {\n",
       "        vertical-align: top;\n",
       "    }\n",
       "\n",
       "    .dataframe thead th {\n",
       "        text-align: right;\n",
       "    }\n",
       "</style>\n",
       "<table border=\"1\" class=\"dataframe\">\n",
       "  <thead>\n",
       "    <tr style=\"text-align: right;\">\n",
       "      <th></th>\n",
       "      <th>FRO</th>\n",
       "      <th>NAT</th>\n",
       "      <th>DHT</th>\n",
       "      <th>EURN</th>\n",
       "      <th>INSW</th>\n",
       "      <th>STNG</th>\n",
       "      <th>TNK</th>\n",
       "    </tr>\n",
       "    <tr>\n",
       "      <th>Date</th>\n",
       "      <th></th>\n",
       "      <th></th>\n",
       "      <th></th>\n",
       "      <th></th>\n",
       "      <th></th>\n",
       "      <th></th>\n",
       "      <th></th>\n",
       "    </tr>\n",
       "  </thead>\n",
       "  <tbody>\n",
       "    <tr>\n",
       "      <th>2010-01-04</th>\n",
       "      <td>101.321236</td>\n",
       "      <td>13.367895</td>\n",
       "      <td>27.682705</td>\n",
       "      <td>NaN</td>\n",
       "      <td>NaN</td>\n",
       "      <td>NaN</td>\n",
       "      <td>325.846008</td>\n",
       "    </tr>\n",
       "    <tr>\n",
       "      <th>2010-01-05</th>\n",
       "      <td>106.989304</td>\n",
       "      <td>13.398457</td>\n",
       "      <td>28.115238</td>\n",
       "      <td>NaN</td>\n",
       "      <td>NaN</td>\n",
       "      <td>NaN</td>\n",
       "      <td>324.721130</td>\n",
       "    </tr>\n",
       "    <tr>\n",
       "      <th>2010-01-06</th>\n",
       "      <td>107.094940</td>\n",
       "      <td>13.983464</td>\n",
       "      <td>28.475702</td>\n",
       "      <td>NaN</td>\n",
       "      <td>NaN</td>\n",
       "      <td>NaN</td>\n",
       "      <td>333.345337</td>\n",
       "    </tr>\n",
       "    <tr>\n",
       "      <th>2010-01-07</th>\n",
       "      <td>110.897133</td>\n",
       "      <td>14.144995</td>\n",
       "      <td>28.547792</td>\n",
       "      <td>NaN</td>\n",
       "      <td>NaN</td>\n",
       "      <td>NaN</td>\n",
       "      <td>333.345337</td>\n",
       "    </tr>\n",
       "    <tr>\n",
       "      <th>2010-01-08</th>\n",
       "      <td>113.255882</td>\n",
       "      <td>14.258504</td>\n",
       "      <td>28.836151</td>\n",
       "      <td>NaN</td>\n",
       "      <td>NaN</td>\n",
       "      <td>NaN</td>\n",
       "      <td>351.343750</td>\n",
       "    </tr>\n",
       "    <tr>\n",
       "      <th>2010-01-11</th>\n",
       "      <td>119.804070</td>\n",
       "      <td>14.830418</td>\n",
       "      <td>29.052418</td>\n",
       "      <td>NaN</td>\n",
       "      <td>NaN</td>\n",
       "      <td>NaN</td>\n",
       "      <td>356.218292</td>\n",
       "    </tr>\n",
       "    <tr>\n",
       "      <th>2010-01-12</th>\n",
       "      <td>115.333015</td>\n",
       "      <td>14.660156</td>\n",
       "      <td>28.619881</td>\n",
       "      <td>NaN</td>\n",
       "      <td>NaN</td>\n",
       "      <td>NaN</td>\n",
       "      <td>361.467926</td>\n",
       "    </tr>\n",
       "    <tr>\n",
       "      <th>2010-01-13</th>\n",
       "      <td>120.191322</td>\n",
       "      <td>14.708179</td>\n",
       "      <td>28.908239</td>\n",
       "      <td>NaN</td>\n",
       "      <td>NaN</td>\n",
       "      <td>NaN</td>\n",
       "      <td>357.343109</td>\n",
       "    </tr>\n",
       "    <tr>\n",
       "      <th>2010-01-14</th>\n",
       "      <td>118.149414</td>\n",
       "      <td>14.638324</td>\n",
       "      <td>29.052418</td>\n",
       "      <td>NaN</td>\n",
       "      <td>NaN</td>\n",
       "      <td>NaN</td>\n",
       "      <td>359.967987</td>\n",
       "    </tr>\n",
       "    <tr>\n",
       "      <th>2010-01-15</th>\n",
       "      <td>115.156982</td>\n",
       "      <td>14.516088</td>\n",
       "      <td>28.547792</td>\n",
       "      <td>NaN</td>\n",
       "      <td>NaN</td>\n",
       "      <td>NaN</td>\n",
       "      <td>365.592529</td>\n",
       "    </tr>\n",
       "    <tr>\n",
       "      <th>2010-01-19</th>\n",
       "      <td>117.445320</td>\n",
       "      <td>14.843520</td>\n",
       "      <td>28.115238</td>\n",
       "      <td>NaN</td>\n",
       "      <td>NaN</td>\n",
       "      <td>NaN</td>\n",
       "      <td>366.342316</td>\n",
       "    </tr>\n",
       "    <tr>\n",
       "      <th>2010-01-20</th>\n",
       "      <td>111.108353</td>\n",
       "      <td>14.730004</td>\n",
       "      <td>27.610613</td>\n",
       "      <td>NaN</td>\n",
       "      <td>NaN</td>\n",
       "      <td>NaN</td>\n",
       "      <td>361.842896</td>\n",
       "    </tr>\n",
       "    <tr>\n",
       "      <th>2010-01-21</th>\n",
       "      <td>106.285194</td>\n",
       "      <td>14.254142</td>\n",
       "      <td>26.673443</td>\n",
       "      <td>NaN</td>\n",
       "      <td>NaN</td>\n",
       "      <td>NaN</td>\n",
       "      <td>349.468964</td>\n",
       "    </tr>\n",
       "    <tr>\n",
       "      <th>2010-01-22</th>\n",
       "      <td>103.327957</td>\n",
       "      <td>13.232555</td>\n",
       "      <td>26.601349</td>\n",
       "      <td>NaN</td>\n",
       "      <td>NaN</td>\n",
       "      <td>NaN</td>\n",
       "      <td>341.219666</td>\n",
       "    </tr>\n",
       "    <tr>\n",
       "      <th>2010-01-25</th>\n",
       "      <td>108.291901</td>\n",
       "      <td>13.293678</td>\n",
       "      <td>26.961802</td>\n",
       "      <td>NaN</td>\n",
       "      <td>NaN</td>\n",
       "      <td>NaN</td>\n",
       "      <td>339.344818</td>\n",
       "    </tr>\n",
       "    <tr>\n",
       "      <th>2010-01-26</th>\n",
       "      <td>106.989304</td>\n",
       "      <td>13.324241</td>\n",
       "      <td>27.682705</td>\n",
       "      <td>NaN</td>\n",
       "      <td>NaN</td>\n",
       "      <td>NaN</td>\n",
       "      <td>335.970032</td>\n",
       "    </tr>\n",
       "    <tr>\n",
       "      <th>2010-01-27</th>\n",
       "      <td>109.735329</td>\n",
       "      <td>13.420285</td>\n",
       "      <td>27.754793</td>\n",
       "      <td>NaN</td>\n",
       "      <td>NaN</td>\n",
       "      <td>NaN</td>\n",
       "      <td>339.344818</td>\n",
       "    </tr>\n",
       "    <tr>\n",
       "      <th>2010-01-28</th>\n",
       "      <td>107.165337</td>\n",
       "      <td>13.201996</td>\n",
       "      <td>27.322245</td>\n",
       "      <td>NaN</td>\n",
       "      <td>NaN</td>\n",
       "      <td>NaN</td>\n",
       "      <td>328.095764</td>\n",
       "    </tr>\n",
       "    <tr>\n",
       "      <th>2010-01-29</th>\n",
       "      <td>105.827530</td>\n",
       "      <td>12.953156</td>\n",
       "      <td>27.178074</td>\n",
       "      <td>NaN</td>\n",
       "      <td>NaN</td>\n",
       "      <td>NaN</td>\n",
       "      <td>322.846252</td>\n",
       "    </tr>\n",
       "    <tr>\n",
       "      <th>2010-02-01</th>\n",
       "      <td>103.820831</td>\n",
       "      <td>13.031730</td>\n",
       "      <td>27.394335</td>\n",
       "      <td>NaN</td>\n",
       "      <td>NaN</td>\n",
       "      <td>NaN</td>\n",
       "      <td>323.596344</td>\n",
       "    </tr>\n",
       "  </tbody>\n",
       "</table>\n",
       "</div>"
      ],
      "text/plain": [
       "                   FRO        NAT        DHT  EURN  INSW  STNG         TNK\n",
       "Date                                                                      \n",
       "2010-01-04  101.321236  13.367895  27.682705   NaN   NaN   NaN  325.846008\n",
       "2010-01-05  106.989304  13.398457  28.115238   NaN   NaN   NaN  324.721130\n",
       "2010-01-06  107.094940  13.983464  28.475702   NaN   NaN   NaN  333.345337\n",
       "2010-01-07  110.897133  14.144995  28.547792   NaN   NaN   NaN  333.345337\n",
       "2010-01-08  113.255882  14.258504  28.836151   NaN   NaN   NaN  351.343750\n",
       "2010-01-11  119.804070  14.830418  29.052418   NaN   NaN   NaN  356.218292\n",
       "2010-01-12  115.333015  14.660156  28.619881   NaN   NaN   NaN  361.467926\n",
       "2010-01-13  120.191322  14.708179  28.908239   NaN   NaN   NaN  357.343109\n",
       "2010-01-14  118.149414  14.638324  29.052418   NaN   NaN   NaN  359.967987\n",
       "2010-01-15  115.156982  14.516088  28.547792   NaN   NaN   NaN  365.592529\n",
       "2010-01-19  117.445320  14.843520  28.115238   NaN   NaN   NaN  366.342316\n",
       "2010-01-20  111.108353  14.730004  27.610613   NaN   NaN   NaN  361.842896\n",
       "2010-01-21  106.285194  14.254142  26.673443   NaN   NaN   NaN  349.468964\n",
       "2010-01-22  103.327957  13.232555  26.601349   NaN   NaN   NaN  341.219666\n",
       "2010-01-25  108.291901  13.293678  26.961802   NaN   NaN   NaN  339.344818\n",
       "2010-01-26  106.989304  13.324241  27.682705   NaN   NaN   NaN  335.970032\n",
       "2010-01-27  109.735329  13.420285  27.754793   NaN   NaN   NaN  339.344818\n",
       "2010-01-28  107.165337  13.201996  27.322245   NaN   NaN   NaN  328.095764\n",
       "2010-01-29  105.827530  12.953156  27.178074   NaN   NaN   NaN  322.846252\n",
       "2010-02-01  103.820831  13.031730  27.394335   NaN   NaN   NaN  323.596344"
      ]
     },
     "execution_count": 4,
     "metadata": {},
     "output_type": "execute_result"
    }
   ],
   "source": [
    "new_data.head(20)"
   ]
  },
  {
   "cell_type": "code",
   "execution_count": 16,
   "metadata": {},
   "outputs": [
    {
     "name": "stdout",
     "output_type": "stream",
     "text": [
      "<class 'pandas.core.frame.DataFrame'>\n",
      "DatetimeIndex: 2645 entries, 2010-01-04 to 2020-07-07\n",
      "Data columns (total 7 columns):\n",
      " #   Column  Non-Null Count  Dtype  \n",
      "---  ------  --------------  -----  \n",
      " 0   FRO     2645 non-null   float64\n",
      " 1   NAT     2645 non-null   float64\n",
      " 2   DHT     2645 non-null   float64\n",
      " 3   EURN    1372 non-null   float64\n",
      " 4   INSW    914 non-null    float64\n",
      " 5   STNG    2585 non-null   float64\n",
      " 6   TNK     2645 non-null   float64\n",
      "dtypes: float64(7)\n",
      "memory usage: 165.3 KB\n"
     ]
    }
   ],
   "source": [
    "new_data.info()"
   ]
  },
  {
   "cell_type": "code",
   "execution_count": 6,
   "metadata": {},
   "outputs": [],
   "source": [
    "tickers.append('T')"
   ]
  },
  {
   "cell_type": "code",
   "execution_count": 7,
   "metadata": {},
   "outputs": [
    {
     "data": {
      "text/plain": [
       "['FRO', 'NAT', 'DHT', 'EURN', 'INSW', 'STNG', 'TNK', 'T']"
      ]
     },
     "execution_count": 7,
     "metadata": {},
     "output_type": "execute_result"
    }
   ],
   "source": [
    "tickers\n"
   ]
  },
  {
   "cell_type": "code",
   "execution_count": 8,
   "metadata": {},
   "outputs": [
    {
     "data": {
      "text/plain": [
       "8"
      ]
     },
     "execution_count": 8,
     "metadata": {},
     "output_type": "execute_result"
    }
   ],
   "source": [
    "len(tickers)"
   ]
  },
  {
   "cell_type": "code",
   "execution_count": 9,
   "metadata": {},
   "outputs": [
    {
     "data": {
      "text/plain": [
       "7"
      ]
     },
     "execution_count": 9,
     "metadata": {},
     "output_type": "execute_result"
    }
   ],
   "source": [
    "tickers.index('T')"
   ]
  },
  {
   "cell_type": "code",
   "execution_count": 14,
   "metadata": {},
   "outputs": [
    {
     "data": {
      "text/plain": [
       "['TNK', 'T', 'STNG', 'NAT', 'INSW', 'FRO', 'EURN', 'DHT']"
      ]
     },
     "execution_count": 14,
     "metadata": {},
     "output_type": "execute_result"
    }
   ],
   "source": [
    "tickers.sort(reverse=True)\n",
    "tickers"
   ]
  },
  {
   "cell_type": "code",
   "execution_count": null,
   "metadata": {},
   "outputs": [],
   "source": [
    "tickers\n"
   ]
  }
 ],
 "metadata": {
  "kernelspec": {
   "display_name": "Python 3",
   "language": "python",
   "name": "python3"
  },
  "language_info": {
   "codemirror_mode": {
    "name": "ipython",
    "version": 3
   },
   "file_extension": ".py",
   "mimetype": "text/x-python",
   "name": "python",
   "nbconvert_exporter": "python",
   "pygments_lexer": "ipython3",
   "version": "3.6.9"
  }
 },
 "nbformat": 4,
 "nbformat_minor": 2
}
