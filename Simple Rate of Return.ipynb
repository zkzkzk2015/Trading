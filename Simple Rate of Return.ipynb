{
 "cells": [
  {
   "cell_type": "code",
   "execution_count": 1,
   "metadata": {},
   "outputs": [
    {
     "name": "stderr",
     "output_type": "stream",
     "text": [
      "/home/gri/.local/lib/python3.6/site-packages/pandas_datareader/compat/__init__.py:7: FutureWarning: pandas.util.testing is deprecated. Use the functions in the public API at pandas.testing instead.\n",
      "  from pandas.util.testing import assert_frame_equal\n"
     ]
    }
   ],
   "source": [
    "import numpy as np\n",
    "from pandas_datareader import data as wb\n",
    "import matplotlib.pyplot as plt"
   ]
  },
  {
   "cell_type": "code",
   "execution_count": 8,
   "metadata": {},
   "outputs": [],
   "source": [
    "NFLX = wb.DataReader('NFLX', data_source='yahoo', start='2008-1-1')"
   ]
  },
  {
   "cell_type": "code",
   "execution_count": 9,
   "metadata": {},
   "outputs": [
    {
     "data": {
      "text/html": [
       "<div>\n",
       "<style scoped>\n",
       "    .dataframe tbody tr th:only-of-type {\n",
       "        vertical-align: middle;\n",
       "    }\n",
       "\n",
       "    .dataframe tbody tr th {\n",
       "        vertical-align: top;\n",
       "    }\n",
       "\n",
       "    .dataframe thead th {\n",
       "        text-align: right;\n",
       "    }\n",
       "</style>\n",
       "<table border=\"1\" class=\"dataframe\">\n",
       "  <thead>\n",
       "    <tr style=\"text-align: right;\">\n",
       "      <th></th>\n",
       "      <th>High</th>\n",
       "      <th>Low</th>\n",
       "      <th>Open</th>\n",
       "      <th>Close</th>\n",
       "      <th>Volume</th>\n",
       "      <th>Adj Close</th>\n",
       "    </tr>\n",
       "    <tr>\n",
       "      <th>Date</th>\n",
       "      <th></th>\n",
       "      <th></th>\n",
       "      <th></th>\n",
       "      <th></th>\n",
       "      <th></th>\n",
       "      <th></th>\n",
       "    </tr>\n",
       "  </thead>\n",
       "  <tbody>\n",
       "    <tr>\n",
       "      <th>2020-07-01</th>\n",
       "      <td>488.230011</td>\n",
       "      <td>454.000000</td>\n",
       "      <td>454.000000</td>\n",
       "      <td>485.640015</td>\n",
       "      <td>9705900.0</td>\n",
       "      <td>485.640015</td>\n",
       "    </tr>\n",
       "    <tr>\n",
       "      <th>2020-07-02</th>\n",
       "      <td>492.279999</td>\n",
       "      <td>475.529999</td>\n",
       "      <td>485.640015</td>\n",
       "      <td>476.890015</td>\n",
       "      <td>6351500.0</td>\n",
       "      <td>476.890015</td>\n",
       "    </tr>\n",
       "    <tr>\n",
       "      <th>2020-07-06</th>\n",
       "      <td>499.500000</td>\n",
       "      <td>479.799988</td>\n",
       "      <td>480.769989</td>\n",
       "      <td>493.809998</td>\n",
       "      <td>7839000.0</td>\n",
       "      <td>493.809998</td>\n",
       "    </tr>\n",
       "    <tr>\n",
       "      <th>2020-07-07</th>\n",
       "      <td>504.820007</td>\n",
       "      <td>490.829987</td>\n",
       "      <td>497.309998</td>\n",
       "      <td>493.160004</td>\n",
       "      <td>5669900.0</td>\n",
       "      <td>493.160004</td>\n",
       "    </tr>\n",
       "    <tr>\n",
       "      <th>2020-07-08</th>\n",
       "      <td>505.100006</td>\n",
       "      <td>493.809998</td>\n",
       "      <td>498.579987</td>\n",
       "      <td>502.779999</td>\n",
       "      <td>5681000.0</td>\n",
       "      <td>502.779999</td>\n",
       "    </tr>\n",
       "  </tbody>\n",
       "</table>\n",
       "</div>"
      ],
      "text/plain": [
       "                  High         Low        Open       Close     Volume  \\\n",
       "Date                                                                    \n",
       "2020-07-01  488.230011  454.000000  454.000000  485.640015  9705900.0   \n",
       "2020-07-02  492.279999  475.529999  485.640015  476.890015  6351500.0   \n",
       "2020-07-06  499.500000  479.799988  480.769989  493.809998  7839000.0   \n",
       "2020-07-07  504.820007  490.829987  497.309998  493.160004  5669900.0   \n",
       "2020-07-08  505.100006  493.809998  498.579987  502.779999  5681000.0   \n",
       "\n",
       "             Adj Close  \n",
       "Date                    \n",
       "2020-07-01  485.640015  \n",
       "2020-07-02  476.890015  \n",
       "2020-07-06  493.809998  \n",
       "2020-07-07  493.160004  \n",
       "2020-07-08  502.779999  "
      ]
     },
     "execution_count": 9,
     "metadata": {},
     "output_type": "execute_result"
    }
   ],
   "source": [
    "NFLX.tail()"
   ]
  },
  {
   "cell_type": "code",
   "execution_count": 10,
   "metadata": {},
   "outputs": [
    {
     "name": "stdout",
     "output_type": "stream",
     "text": [
      "Date\n",
      "2008-01-02         NaN\n",
      "2008-01-03   -0.010626\n",
      "2008-01-04   -0.056003\n",
      "2008-01-07    0.010971\n",
      "2008-01-08   -0.063505\n",
      "                ...   \n",
      "2020-07-01    0.067247\n",
      "2020-07-02   -0.018017\n",
      "2020-07-06    0.035480\n",
      "2020-07-07   -0.001316\n",
      "2020-07-08    0.019507\n",
      "Name: simple_return, Length: 3151, dtype: float64\n"
     ]
    }
   ],
   "source": [
    "NFLX['simple_return'] = (NFLX['Adj Close']/ NFLX['Adj Close'].shift(1))  -1\n",
    "print (NFLX['simple_return'])"
   ]
  },
  {
   "cell_type": "code",
   "execution_count": 11,
   "metadata": {},
   "outputs": [
    {
     "data": {
      "image/png": "[encoded data removed]",
      "text/plain": [
       "<Figure size 576x360 with 1 Axes>"
      ]
     },
     "metadata": {
      "needs_background": "light"
     },
     "output_type": "display_data"
    }
   ],
   "source": [
    "NFLX['simple_return'].plot(figsize=(8,5))\n",
    "plt.show()"
   ]
  },
  {
   "cell_type": "code",
   "execution_count": 12,
   "metadata": {},
   "outputs": [
    {
     "data": {
      "text/plain": [
       "0.527028786859453"
      ]
     },
     "execution_count": 12,
     "metadata": {},
     "output_type": "execute_result"
    }
   ],
   "source": [
    "avg_returns_d=NFLX['simple_return'].mean() * 250\n",
    "avg_returns_d"
   ]
  },
  {
   "cell_type": "code",
   "execution_count": 15,
   "metadata": {},
   "outputs": [
    {
     "name": "stdout",
     "output_type": "stream",
     "text": [
      "52.7 %\n"
     ]
    }
   ],
   "source": [
    "print (str(round(avg_returns_d, 3)*100) + ' %')"
   ]
  },
  {
   "cell_type": "code",
   "execution_count": null,
   "metadata": {},
   "outputs": [],
   "source": []
  }
 ],
 "metadata": {
  "kernelspec": {
   "display_name": "Python 3",
   "language": "python",
   "name": "python3"
  },
  "language_info": {
   "codemirror_mode": {
    "name": "ipython",
    "version": 3
   },
   "file_extension": ".py",
   "mimetype": "text/x-python",
   "name": "python",
   "nbconvert_exporter": "python",
   "pygments_lexer": "ipython3",
   "version": "3.6.9"
  }
 },
 "nbformat": 4,
 "nbformat_minor": 2
}
