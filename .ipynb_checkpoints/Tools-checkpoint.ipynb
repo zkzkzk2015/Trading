{
 "cells": [
  {
   "cell_type": "code",
   "execution_count": 34,
   "metadata": {},
   "outputs": [],
   "source": [
    "import numpy as np\n",
    "# pandas.util.testing import assert_frame_equal as wb\n",
    "from pandas_datareader import data as wb\n",
    "import matplotlib.pyplot as plt"
   ]
  },
  {
   "cell_type": "code",
   "execution_count": 30,
   "metadata": {},
   "outputs": [],
   "source": [
    "BA = wb.DataReader('BA', data_source='yahoo', start='1995-1-1')"
   ]
  },
  {
   "cell_type": "code",
   "execution_count": 4,
   "metadata": {},
   "outputs": [
    {
     "data": {
      "text/plain": [
       "<bound method NDFrame.head of                   High         Low        Open       Close      Volume  \\\n",
       "Date                                                                     \n",
       "1995-01-03   23.562500   23.062500   23.500000   23.375000   1299200.0   \n",
       "1995-01-04   23.562500   23.250000   23.375000   23.312500   1227600.0   \n",
       "1995-01-05   23.500000   23.187500   23.312500   23.375000   1744000.0   \n",
       "1995-01-06   24.125000   23.312500   23.375000   23.812500   2084200.0   \n",
       "1995-01-09   24.000000   23.687500   23.812500   23.812500   1178600.0   \n",
       "...                ...         ...         ...         ...         ...   \n",
       "2020-06-03  173.779999  155.490005  157.100006  173.160004  66486400.0   \n",
       "2020-06-04  188.600006  177.399994  181.279999  184.300003  67155600.0   \n",
       "2020-06-05  218.789993  197.360001  205.000000  205.429993  99846000.0   \n",
       "2020-06-08  234.199997  218.929993  222.940002  230.500000  80902800.0   \n",
       "2020-06-09  227.000000  213.080002  222.139999  216.740005  66532100.0   \n",
       "\n",
       "             Adj Close  \n",
       "Date                    \n",
       "1995-01-03   13.514081  \n",
       "1995-01-04   13.477945  \n",
       "1995-01-05   13.514081  \n",
       "1995-01-06   13.767016  \n",
       "1995-01-09   13.767016  \n",
       "...                ...  \n",
       "2020-06-03  173.160004  \n",
       "2020-06-04  184.300003  \n",
       "2020-06-05  205.429993  \n",
       "2020-06-08  230.500000  \n",
       "2020-06-09  216.740005  \n",
       "\n",
       "[6404 rows x 6 columns]>"
      ]
     },
     "execution_count": 4,
     "metadata": {},
     "output_type": "execute_result"
    }
   ],
   "source": [
    "BA.head"
   ]
  },
  {
   "cell_type": "code",
   "execution_count": 5,
   "metadata": {},
   "outputs": [
    {
     "data": {
      "text/html": [
       "<div>\n",
       "<style scoped>\n",
       "    .dataframe tbody tr th:only-of-type {\n",
       "        vertical-align: middle;\n",
       "    }\n",
       "\n",
       "    .dataframe tbody tr th {\n",
       "        vertical-align: top;\n",
       "    }\n",
       "\n",
       "    .dataframe thead th {\n",
       "        text-align: right;\n",
       "    }\n",
       "</style>\n",
       "<table border=\"1\" class=\"dataframe\">\n",
       "  <thead>\n",
       "    <tr style=\"text-align: right;\">\n",
       "      <th></th>\n",
       "      <th>High</th>\n",
       "      <th>Low</th>\n",
       "      <th>Open</th>\n",
       "      <th>Close</th>\n",
       "      <th>Volume</th>\n",
       "      <th>Adj Close</th>\n",
       "    </tr>\n",
       "    <tr>\n",
       "      <th>Date</th>\n",
       "      <th></th>\n",
       "      <th></th>\n",
       "      <th></th>\n",
       "      <th></th>\n",
       "      <th></th>\n",
       "      <th></th>\n",
       "    </tr>\n",
       "  </thead>\n",
       "  <tbody>\n",
       "    <tr>\n",
       "      <th>2020-06-03</th>\n",
       "      <td>173.779999</td>\n",
       "      <td>155.490005</td>\n",
       "      <td>157.100006</td>\n",
       "      <td>173.160004</td>\n",
       "      <td>66486400.0</td>\n",
       "      <td>173.160004</td>\n",
       "    </tr>\n",
       "    <tr>\n",
       "      <th>2020-06-04</th>\n",
       "      <td>188.600006</td>\n",
       "      <td>177.399994</td>\n",
       "      <td>181.279999</td>\n",
       "      <td>184.300003</td>\n",
       "      <td>67155600.0</td>\n",
       "      <td>184.300003</td>\n",
       "    </tr>\n",
       "    <tr>\n",
       "      <th>2020-06-05</th>\n",
       "      <td>218.789993</td>\n",
       "      <td>197.360001</td>\n",
       "      <td>205.000000</td>\n",
       "      <td>205.429993</td>\n",
       "      <td>99846000.0</td>\n",
       "      <td>205.429993</td>\n",
       "    </tr>\n",
       "    <tr>\n",
       "      <th>2020-06-08</th>\n",
       "      <td>234.199997</td>\n",
       "      <td>218.929993</td>\n",
       "      <td>222.940002</td>\n",
       "      <td>230.500000</td>\n",
       "      <td>80902800.0</td>\n",
       "      <td>230.500000</td>\n",
       "    </tr>\n",
       "    <tr>\n",
       "      <th>2020-06-09</th>\n",
       "      <td>227.000000</td>\n",
       "      <td>213.080002</td>\n",
       "      <td>222.139999</td>\n",
       "      <td>216.740005</td>\n",
       "      <td>66532100.0</td>\n",
       "      <td>216.740005</td>\n",
       "    </tr>\n",
       "  </tbody>\n",
       "</table>\n",
       "</div>"
      ],
      "text/plain": [
       "                  High         Low        Open       Close      Volume  \\\n",
       "Date                                                                     \n",
       "2020-06-03  173.779999  155.490005  157.100006  173.160004  66486400.0   \n",
       "2020-06-04  188.600006  177.399994  181.279999  184.300003  67155600.0   \n",
       "2020-06-05  218.789993  197.360001  205.000000  205.429993  99846000.0   \n",
       "2020-06-08  234.199997  218.929993  222.940002  230.500000  80902800.0   \n",
       "2020-06-09  227.000000  213.080002  222.139999  216.740005  66532100.0   \n",
       "\n",
       "             Adj Close  \n",
       "Date                    \n",
       "2020-06-03  173.160004  \n",
       "2020-06-04  184.300003  \n",
       "2020-06-05  205.429993  \n",
       "2020-06-08  230.500000  \n",
       "2020-06-09  216.740005  "
      ]
     },
     "execution_count": 5,
     "metadata": {},
     "output_type": "execute_result"
    }
   ],
   "source": [
    "BA.tail()"
   ]
  },
  {
   "cell_type": "code",
   "execution_count": 6,
   "metadata": {},
   "outputs": [
    {
     "name": "stdout",
     "output_type": "stream",
     "text": [
      "Date\n",
      "1995-01-03         NaN\n",
      "1995-01-04   -0.002674\n",
      "1995-01-05    0.002681\n",
      "1995-01-06    0.018716\n",
      "1995-01-09    0.000000\n",
      "                ...   \n",
      "2020-06-03    0.129476\n",
      "2020-06-04    0.064334\n",
      "2020-06-05    0.114650\n",
      "2020-06-08    0.122037\n",
      "2020-06-09   -0.059696\n",
      "Name: simple_return, Length: 6404, dtype: float64\n"
     ]
    }
   ],
   "source": [
    "BA['simple_return'] = (BA['Adj Close']/BA['Adj Close'].shift(1)) - 1\n",
    "print (BA['simple_return'])"
   ]
  },
  {
   "cell_type": "code",
   "execution_count": 7,
   "metadata": {},
   "outputs": [
    {
     "data": {
      "image/png": "[encoded data removed]",
      "text/plain": [
       "<Figure size 576x360 with 1 Axes>"
      ]
     },
     "metadata": {
      "needs_background": "light"
     },
     "output_type": "display_data"
    }
   ],
   "source": [
    "BA['simple_return'].plot(figsize=(8, 5))\n",
    "plt.show()"
   ]
  },
  {
   "cell_type": "code",
   "execution_count": 8,
   "metadata": {},
   "outputs": [
    {
     "data": {
      "text/plain": [
       "0.000659040836477386"
      ]
     },
     "execution_count": 8,
     "metadata": {},
     "output_type": "execute_result"
    }
   ],
   "source": [
    "avg_returns_d = BA['simple_return'].mean()\n",
    "avg_returns_d"
   ]
  },
  {
   "cell_type": "code",
   "execution_count": 9,
   "metadata": {},
   "outputs": [
    {
     "data": {
      "text/plain": [
       "0.1647602091193465"
      ]
     },
     "execution_count": 9,
     "metadata": {},
     "output_type": "execute_result"
    }
   ],
   "source": [
    "avg_returns_a = BA['simple_return'].mean()* 250\n",
    "avg_returns_a"
   ]
  },
  {
   "cell_type": "code",
   "execution_count": 10,
   "metadata": {},
   "outputs": [
    {
     "name": "stdout",
     "output_type": "stream",
     "text": [
      "16.476 %\n"
     ]
    }
   ],
   "source": [
    "print (str(round(avg_returns_a, 5)*100) + ' %')"
   ]
  },
  {
   "cell_type": "code",
   "execution_count": 13,
   "metadata": {},
   "outputs": [
    {
     "name": "stdout",
     "output_type": "stream",
     "text": [
      "Help on function DataReader in module pandas_datareader.data:\n",
      "\n",
      "DataReader(name, data_source=None, start=None, end=None, retry_count=3, pause=0.1, session=None, api_key=None)\n",
      "    Imports data from a number of online sources.\n",
      "    \n",
      "    Currently supports Google Finance, St. Louis FED (FRED),\n",
      "    and Kenneth French's data library, among others.\n",
      "    \n",
      "    Parameters\n",
      "    ----------\n",
      "    name : str or list of strs\n",
      "        the name of the dataset. Some data sources (IEX, fred) will\n",
      "        accept a list of names.\n",
      "    data_source: {str, None}\n",
      "        the data source (\"iex\", \"fred\", \"ff\")\n",
      "    start : string, int, date, datetime, Timestamp\n",
      "        left boundary for range (defaults to 1/1/2010)\n",
      "    end : string, int, date, datetime, Timestamp\n",
      "        right boundary for range (defaults to today)\n",
      "    retry_count : {int, 3}\n",
      "        Number of times to retry query request.\n",
      "    pause : {numeric, 0.001}\n",
      "        Time, in seconds, to pause between consecutive queries of chunks. If\n",
      "        single value given for symbol, represents the pause between retries.\n",
      "    session : Session, default None\n",
      "        requests.sessions.Session instance to be used\n",
      "    api_key : (str, None)\n",
      "        Optional parameter to specify an API key for certain data sources.\n",
      "    \n",
      "    Examples\n",
      "    ----------\n",
      "    # Data from Google Finance\n",
      "    aapl = DataReader(\"AAPL\", \"iex\")\n",
      "    \n",
      "    # Price and volume data from IEX\n",
      "    tops = DataReader([\"GS\", \"AAPL\"], \"iex-tops\")\n",
      "    # Top of book executions from IEX\n",
      "    gs = DataReader(\"GS\", \"iex-last\")\n",
      "    # Real-time depth of book data from IEX\n",
      "    gs = DataReader(\"GS\", \"iex-book\")\n",
      "    \n",
      "    # Data from FRED\n",
      "    vix = DataReader(\"VIXCLS\", \"fred\")\n",
      "    \n",
      "    # Data from Fama/French\n",
      "    ff = DataReader(\"F-F_Research_Data_Factors\", \"famafrench\")\n",
      "    ff = DataReader(\"F-F_Research_Data_Factors_weekly\", \"famafrench\")\n",
      "    ff = DataReader(\"6_Portfolios_2x3\", \"famafrench\")\n",
      "    ff = DataReader(\"F-F_ST_Reversal_Factor\", \"famafrench\")\n",
      "\n"
     ]
    }
   ],
   "source": [
    "help(wb.DataReader)"
   ]
  },
  {
   "cell_type": "code",
   "execution_count": 14,
   "metadata": {},
   "outputs": [
    {
     "name": "stdout",
     "output_type": "stream",
     "text": [
      "<class 'pandas.core.frame.DataFrame'>\n",
      "DatetimeIndex: 6404 entries, 1995-01-03 to 2020-06-09\n",
      "Data columns (total 7 columns):\n",
      " #   Column         Non-Null Count  Dtype  \n",
      "---  ------         --------------  -----  \n",
      " 0   High           6404 non-null   float64\n",
      " 1   Low            6404 non-null   float64\n",
      " 2   Open           6404 non-null   float64\n",
      " 3   Close          6404 non-null   float64\n",
      " 4   Volume         6404 non-null   float64\n",
      " 5   Adj Close      6404 non-null   float64\n",
      " 6   simple_return  6403 non-null   float64\n",
      "dtypes: float64(7)\n",
      "memory usage: 400.2 KB\n"
     ]
    }
   ],
   "source": [
    "BA.info()"
   ]
  },
  {
   "cell_type": "code",
   "execution_count": 9,
   "metadata": {},
   "outputs": [
    {
     "name": "stdout",
     "output_type": "stream",
     "text": [
      "Help on function interactive in module matplotlib:\n",
      "\n",
      "interactive(b)\n",
      "    Set whether to redraw after every plotting command (e.g. `.pyplot.xlabel`).\n",
      "\n"
     ]
    }
   ],
   "source": [
    "help(plt.interactive)\n"
   ]
  },
  {
   "cell_type": "code",
   "execution_count": 17,
   "metadata": {},
   "outputs": [
    {
     "data": {
      "text/plain": [
       "array([[0, 1, 2, 3],\n",
       "       [4, 5, 6, 7]])"
      ]
     },
     "execution_count": 17,
     "metadata": {},
     "output_type": "execute_result"
    }
   ],
   "source": [
    "a = np.array([[0,1,2,3],[4,5,6,7]])\n",
    "a"
   ]
  },
  {
   "cell_type": "code",
   "execution_count": 20,
   "metadata": {},
   "outputs": [
    {
     "data": {
      "text/plain": [
       "(2, 4)"
      ]
     },
     "execution_count": 20,
     "metadata": {},
     "output_type": "execute_result"
    }
   ],
   "source": [
    "a.shape\n"
   ]
  },
  {
   "cell_type": "code",
   "execution_count": 26,
   "metadata": {},
   "outputs": [
    {
     "data": {
      "text/plain": [
       "5"
      ]
     },
     "execution_count": 26,
     "metadata": {},
     "output_type": "execute_result"
    }
   ],
   "source": [
    "a[1,1]"
   ]
  },
  {
   "cell_type": "code",
   "execution_count": 36,
   "metadata": {},
   "outputs": [
    {
     "data": {
      "text/plain": [
       "array([3, 5])"
      ]
     },
     "execution_count": 36,
     "metadata": {},
     "output_type": "execute_result"
    }
   ],
   "source": [
    "b = np.array([3,5])\n",
    "b\n",
    "#b.plot(figsize=(8, 5))\n",
    "#plt.show()"
   ]
  },
  {
   "cell_type": "code",
   "execution_count": null,
   "metadata": {},
   "outputs": [],
   "source": []
  },
  {
   "cell_type": "code",
   "execution_count": null,
   "metadata": {},
   "outputs": [],
   "source": []
  },
  {
   "cell_type": "code",
   "execution_count": null,
   "metadata": {},
   "outputs": [],
   "source": []
  }
 ],
 "metadata": {
  "kernelspec": {
   "display_name": "Python 3",
   "language": "python",
   "name": "python3"
  },
  "language_info": {
   "codemirror_mode": {
    "name": "ipython",
    "version": 3
   },
   "file_extension": ".py",
   "mimetype": "text/x-python",
   "name": "python",
   "nbconvert_exporter": "python",
   "pygments_lexer": "ipython3",
   "version": "3.6.9"
  }
 },
 "nbformat": 4,
 "nbformat_minor": 2
}
