{
 "cells": [
  {
   "cell_type": "code",
   "execution_count": 1,
   "metadata": {},
   "outputs": [
    {
     "name": "stderr",
     "output_type": "stream",
     "text": [
      "/home/gri/.local/lib/python3.6/site-packages/pandas_datareader/compat/__init__.py:7: FutureWarning: pandas.util.testing is deprecated. Use the functions in the public API at pandas.testing instead.\n",
      "  from pandas.util.testing import assert_frame_equal\n"
     ]
    }
   ],
   "source": [
    "import numpy as np\n",
    "import pandas as pd\n",
    "from pandas_datareader import data as wb\n",
    "import matplotlib.pyplot as plt"
   ]
  },
  {
   "cell_type": "code",
   "execution_count": 2,
   "metadata": {},
   "outputs": [],
   "source": [
    "tickers = ['^GSPC','^IXIC','^GDAXI', '^RUT', 'MSFT', 'DHT']\n",
    "ind_data = pd.DataFrame()\n",
    "\n",
    "for t in tickers:\n",
    "    ind_data[t] = wb.DataReader(t, data_source='yahoo', start='1997-1-1')['Adj Close']"
   ]
  },
  {
   "cell_type": "code",
   "execution_count": 3,
   "metadata": {},
   "outputs": [
    {
     "data": {
      "text/html": [
       "<div>\n",
       "<style scoped>\n",
       "    .dataframe tbody tr th:only-of-type {\n",
       "        vertical-align: middle;\n",
       "    }\n",
       "\n",
       "    .dataframe tbody tr th {\n",
       "        vertical-align: top;\n",
       "    }\n",
       "\n",
       "    .dataframe thead th {\n",
       "        text-align: right;\n",
       "    }\n",
       "</style>\n",
       "<table border=\"1\" class=\"dataframe\">\n",
       "  <thead>\n",
       "    <tr style=\"text-align: right;\">\n",
       "      <th></th>\n",
       "      <th>^GSPC</th>\n",
       "      <th>^IXIC</th>\n",
       "      <th>^GDAXI</th>\n",
       "      <th>^RUT</th>\n",
       "      <th>MSFT</th>\n",
       "      <th>DHT</th>\n",
       "    </tr>\n",
       "    <tr>\n",
       "      <th>Date</th>\n",
       "      <th></th>\n",
       "      <th></th>\n",
       "      <th></th>\n",
       "      <th></th>\n",
       "      <th></th>\n",
       "      <th></th>\n",
       "    </tr>\n",
       "  </thead>\n",
       "  <tbody>\n",
       "    <tr>\n",
       "      <th>1997-01-02</th>\n",
       "      <td>737.010010</td>\n",
       "      <td>1280.699951</td>\n",
       "      <td>2820.810059</td>\n",
       "      <td>358.959991</td>\n",
       "      <td>6.528196</td>\n",
       "      <td>NaN</td>\n",
       "    </tr>\n",
       "    <tr>\n",
       "      <th>1997-01-03</th>\n",
       "      <td>748.030029</td>\n",
       "      <td>1310.680054</td>\n",
       "      <td>2863.260010</td>\n",
       "      <td>361.850006</td>\n",
       "      <td>6.768128</td>\n",
       "      <td>NaN</td>\n",
       "    </tr>\n",
       "    <tr>\n",
       "      <th>1997-01-06</th>\n",
       "      <td>747.650024</td>\n",
       "      <td>1316.400024</td>\n",
       "      <td>2890.199951</td>\n",
       "      <td>362.309998</td>\n",
       "      <td>6.748134</td>\n",
       "      <td>NaN</td>\n",
       "    </tr>\n",
       "    <tr>\n",
       "      <th>1997-01-07</th>\n",
       "      <td>753.229980</td>\n",
       "      <td>1327.729980</td>\n",
       "      <td>2876.340088</td>\n",
       "      <td>364.160004</td>\n",
       "      <td>6.798121</td>\n",
       "      <td>NaN</td>\n",
       "    </tr>\n",
       "    <tr>\n",
       "      <th>1997-01-08</th>\n",
       "      <td>748.409973</td>\n",
       "      <td>1320.349976</td>\n",
       "      <td>2904.080078</td>\n",
       "      <td>364.170013</td>\n",
       "      <td>6.668156</td>\n",
       "      <td>NaN</td>\n",
       "    </tr>\n",
       "  </tbody>\n",
       "</table>\n",
       "</div>"
      ],
      "text/plain": [
       "                 ^GSPC        ^IXIC       ^GDAXI        ^RUT      MSFT  DHT\n",
       "Date                                                                       \n",
       "1997-01-02  737.010010  1280.699951  2820.810059  358.959991  6.528196  NaN\n",
       "1997-01-03  748.030029  1310.680054  2863.260010  361.850006  6.768128  NaN\n",
       "1997-01-06  747.650024  1316.400024  2890.199951  362.309998  6.748134  NaN\n",
       "1997-01-07  753.229980  1327.729980  2876.340088  364.160004  6.798121  NaN\n",
       "1997-01-08  748.409973  1320.349976  2904.080078  364.170013  6.668156  NaN"
      ]
     },
     "execution_count": 3,
     "metadata": {},
     "output_type": "execute_result"
    }
   ],
   "source": [
    "ind_data.head()"
   ]
  },
  {
   "cell_type": "code",
   "execution_count": 4,
   "metadata": {},
   "outputs": [
    {
     "data": {
      "text/html": [
       "<div>\n",
       "<style scoped>\n",
       "    .dataframe tbody tr th:only-of-type {\n",
       "        vertical-align: middle;\n",
       "    }\n",
       "\n",
       "    .dataframe tbody tr th {\n",
       "        vertical-align: top;\n",
       "    }\n",
       "\n",
       "    .dataframe thead th {\n",
       "        text-align: right;\n",
       "    }\n",
       "</style>\n",
       "<table border=\"1\" class=\"dataframe\">\n",
       "  <thead>\n",
       "    <tr style=\"text-align: right;\">\n",
       "      <th></th>\n",
       "      <th>^GSPC</th>\n",
       "      <th>^IXIC</th>\n",
       "      <th>^GDAXI</th>\n",
       "      <th>^RUT</th>\n",
       "      <th>MSFT</th>\n",
       "      <th>DHT</th>\n",
       "    </tr>\n",
       "    <tr>\n",
       "      <th>Date</th>\n",
       "      <th></th>\n",
       "      <th></th>\n",
       "      <th></th>\n",
       "      <th></th>\n",
       "      <th></th>\n",
       "      <th></th>\n",
       "    </tr>\n",
       "  </thead>\n",
       "  <tbody>\n",
       "    <tr>\n",
       "      <th>2020-07-07</th>\n",
       "      <td>3145.320068</td>\n",
       "      <td>10343.889648</td>\n",
       "      <td>12616.799805</td>\n",
       "      <td>1416.000000</td>\n",
       "      <td>208.250000</td>\n",
       "      <td>5.19</td>\n",
       "    </tr>\n",
       "    <tr>\n",
       "      <th>2020-07-08</th>\n",
       "      <td>3169.939941</td>\n",
       "      <td>10492.500000</td>\n",
       "      <td>12494.809570</td>\n",
       "      <td>1427.400024</td>\n",
       "      <td>212.830002</td>\n",
       "      <td>5.32</td>\n",
       "    </tr>\n",
       "    <tr>\n",
       "      <th>2020-07-09</th>\n",
       "      <td>3152.050049</td>\n",
       "      <td>10547.750000</td>\n",
       "      <td>12489.459961</td>\n",
       "      <td>1398.920044</td>\n",
       "      <td>214.320007</td>\n",
       "      <td>5.13</td>\n",
       "    </tr>\n",
       "    <tr>\n",
       "      <th>2020-07-10</th>\n",
       "      <td>3185.040039</td>\n",
       "      <td>10617.440430</td>\n",
       "      <td>12633.709961</td>\n",
       "      <td>1422.680054</td>\n",
       "      <td>213.669998</td>\n",
       "      <td>5.44</td>\n",
       "    </tr>\n",
       "    <tr>\n",
       "      <th>2020-07-13</th>\n",
       "      <td>3155.219971</td>\n",
       "      <td>10390.839844</td>\n",
       "      <td>12799.969727</td>\n",
       "      <td>1403.569946</td>\n",
       "      <td>207.070007</td>\n",
       "      <td>5.26</td>\n",
       "    </tr>\n",
       "  </tbody>\n",
       "</table>\n",
       "</div>"
      ],
      "text/plain": [
       "                  ^GSPC         ^IXIC        ^GDAXI         ^RUT        MSFT  \\\n",
       "Date                                                                           \n",
       "2020-07-07  3145.320068  10343.889648  12616.799805  1416.000000  208.250000   \n",
       "2020-07-08  3169.939941  10492.500000  12494.809570  1427.400024  212.830002   \n",
       "2020-07-09  3152.050049  10547.750000  12489.459961  1398.920044  214.320007   \n",
       "2020-07-10  3185.040039  10617.440430  12633.709961  1422.680054  213.669998   \n",
       "2020-07-13  3155.219971  10390.839844  12799.969727  1403.569946  207.070007   \n",
       "\n",
       "             DHT  \n",
       "Date              \n",
       "2020-07-07  5.19  \n",
       "2020-07-08  5.32  \n",
       "2020-07-09  5.13  \n",
       "2020-07-10  5.44  \n",
       "2020-07-13  5.26  "
      ]
     },
     "execution_count": 4,
     "metadata": {},
     "output_type": "execute_result"
    }
   ],
   "source": [
    "ind_data.tail()"
   ]
  },
  {
   "cell_type": "code",
   "execution_count": null,
   "metadata": {},
   "outputs": [],
   "source": []
  },
  {
   "cell_type": "code",
   "execution_count": 5,
   "metadata": {},
   "outputs": [
    {
     "data": {
      "image/png": "[encoded data removed]",
      "text/plain": [
       "<Figure size 1080x432 with 1 Axes>"
      ]
     },
     "metadata": {
      "needs_background": "light"
     },
     "output_type": "display_data"
    }
   ],
   "source": [
    "(ind_data / ind_data.iloc[0] * 100).plot(figsize=(15, 6));\n",
    "plt.show()"
   ]
  },
  {
   "cell_type": "code",
   "execution_count": 6,
   "metadata": {},
   "outputs": [
    {
     "data": {
      "text/html": [
       "<div>\n",
       "<style scoped>\n",
       "    .dataframe tbody tr th:only-of-type {\n",
       "        vertical-align: middle;\n",
       "    }\n",
       "\n",
       "    .dataframe tbody tr th {\n",
       "        vertical-align: top;\n",
       "    }\n",
       "\n",
       "    .dataframe thead th {\n",
       "        text-align: right;\n",
       "    }\n",
       "</style>\n",
       "<table border=\"1\" class=\"dataframe\">\n",
       "  <thead>\n",
       "    <tr style=\"text-align: right;\">\n",
       "      <th></th>\n",
       "      <th>^GSPC</th>\n",
       "      <th>^IXIC</th>\n",
       "      <th>^GDAXI</th>\n",
       "      <th>^RUT</th>\n",
       "      <th>MSFT</th>\n",
       "      <th>DHT</th>\n",
       "    </tr>\n",
       "    <tr>\n",
       "      <th>Date</th>\n",
       "      <th></th>\n",
       "      <th></th>\n",
       "      <th></th>\n",
       "      <th></th>\n",
       "      <th></th>\n",
       "      <th></th>\n",
       "    </tr>\n",
       "  </thead>\n",
       "  <tbody>\n",
       "    <tr>\n",
       "      <th>2020-07-07</th>\n",
       "      <td>-0.010819</td>\n",
       "      <td>-0.008603</td>\n",
       "      <td>-0.009161</td>\n",
       "      <td>-0.018629</td>\n",
       "      <td>-0.011628</td>\n",
       "      <td>-0.031716</td>\n",
       "    </tr>\n",
       "    <tr>\n",
       "      <th>2020-07-08</th>\n",
       "      <td>0.007827</td>\n",
       "      <td>0.014367</td>\n",
       "      <td>-0.009669</td>\n",
       "      <td>0.008051</td>\n",
       "      <td>0.021993</td>\n",
       "      <td>0.025048</td>\n",
       "    </tr>\n",
       "    <tr>\n",
       "      <th>2020-07-09</th>\n",
       "      <td>-0.005644</td>\n",
       "      <td>0.005266</td>\n",
       "      <td>-0.000428</td>\n",
       "      <td>-0.019952</td>\n",
       "      <td>0.007001</td>\n",
       "      <td>-0.035714</td>\n",
       "    </tr>\n",
       "    <tr>\n",
       "      <th>2020-07-10</th>\n",
       "      <td>0.010466</td>\n",
       "      <td>0.006607</td>\n",
       "      <td>0.011550</td>\n",
       "      <td>0.016985</td>\n",
       "      <td>-0.003033</td>\n",
       "      <td>0.060429</td>\n",
       "    </tr>\n",
       "    <tr>\n",
       "      <th>2020-07-13</th>\n",
       "      <td>-0.009363</td>\n",
       "      <td>-0.021342</td>\n",
       "      <td>0.013160</td>\n",
       "      <td>-0.013432</td>\n",
       "      <td>-0.030889</td>\n",
       "      <td>-0.033088</td>\n",
       "    </tr>\n",
       "  </tbody>\n",
       "</table>\n",
       "</div>"
      ],
      "text/plain": [
       "               ^GSPC     ^IXIC    ^GDAXI      ^RUT      MSFT       DHT\n",
       "Date                                                                  \n",
       "2020-07-07 -0.010819 -0.008603 -0.009161 -0.018629 -0.011628 -0.031716\n",
       "2020-07-08  0.007827  0.014367 -0.009669  0.008051  0.021993  0.025048\n",
       "2020-07-09 -0.005644  0.005266 -0.000428 -0.019952  0.007001 -0.035714\n",
       "2020-07-10  0.010466  0.006607  0.011550  0.016985 -0.003033  0.060429\n",
       "2020-07-13 -0.009363 -0.021342  0.013160 -0.013432 -0.030889 -0.033088"
      ]
     },
     "execution_count": 6,
     "metadata": {},
     "output_type": "execute_result"
    }
   ],
   "source": [
    "ind_returns = (ind_data / ind_data.shift(1)) - 1\n",
    "ind_returns.tail()"
   ]
  },
  {
   "cell_type": "code",
   "execution_count": 7,
   "metadata": {},
   "outputs": [
    {
     "data": {
      "text/plain": [
       "^GSPC     0.080948\n",
       "^IXIC     0.120314\n",
       "^GDAXI    0.077316\n",
       "^RUT      0.085921\n",
       "MSFT      0.195894\n",
       "DHT      -0.062313\n",
       "dtype: float64"
      ]
     },
     "execution_count": 7,
     "metadata": {},
     "output_type": "execute_result"
    }
   ],
   "source": [
    "annual_ind_returns = ind_returns.mean() *250\n",
    "annual_ind_returns"
   ]
  },
  {
   "cell_type": "code",
   "execution_count": null,
   "metadata": {},
   "outputs": [],
   "source": []
  }
 ],
 "metadata": {
  "kernelspec": {
   "display_name": "Python 3",
   "language": "python",
   "name": "python3"
  },
  "language_info": {
   "codemirror_mode": {
    "name": "ipython",
    "version": 3
   },
   "file_extension": ".py",
   "mimetype": "text/x-python",
   "name": "python",
   "nbconvert_exporter": "python",
   "pygments_lexer": "ipython3",
   "version": "3.6.9"
  }
 },
 "nbformat": 4,
 "nbformat_minor": 4
}
