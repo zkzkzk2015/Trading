{
 "cells": [
  {
   "cell_type": "code",
   "execution_count": 5,
   "metadata": {},
   "outputs": [],
   "source": [
    "import numpy as np\n",
    "from pandas_datareader import data as wb\n",
    "import matplotlib.pyplot as plt"
   ]
  },
  {
   "cell_type": "code",
   "execution_count": 6,
   "metadata": {},
   "outputs": [],
   "source": [
    "PG = wb.DataReader('PG', data_source='yahoo', start='1995-1-1')"
   ]
  },
  {
   "cell_type": "code",
   "execution_count": 7,
   "metadata": {},
   "outputs": [
    {
     "data": {
      "text/plain": [
       "<bound method NDFrame.head of                   High         Low        Open       Close     Volume  \\\n",
       "Date                                                                    \n",
       "1995-01-03   15.625000   15.437500   15.468750   15.593750  3318400.0   \n",
       "1995-01-04   15.656250   15.312500   15.531250   15.468750  2218800.0   \n",
       "1995-01-05   15.437500   15.218750   15.375000   15.250000  2319600.0   \n",
       "1995-01-06   15.406250   15.156250   15.156250   15.281250  3438000.0   \n",
       "1995-01-09   15.406250   15.187500   15.343750   15.218750  1795200.0   \n",
       "...                ...         ...         ...         ...        ...   \n",
       "2020-06-01  117.500000  115.260002  116.000000  117.250000  5105600.0   \n",
       "2020-06-02  118.139999  116.820000  117.070000  118.059998  6327900.0   \n",
       "2020-06-03  119.190002  117.949997  118.099998  118.529999  6171000.0   \n",
       "2020-06-04  118.830002  115.570000  118.000000  116.050003  6895800.0   \n",
       "2020-06-05  118.830002  116.050003  116.250000  118.330002  7335600.0   \n",
       "\n",
       "             Adj Close  \n",
       "Date                    \n",
       "1995-01-03    6.320252  \n",
       "1995-01-04    6.269589  \n",
       "1995-01-05    6.180927  \n",
       "1995-01-06    6.193593  \n",
       "1995-01-09    6.168259  \n",
       "...                ...  \n",
       "2020-06-01  117.250000  \n",
       "2020-06-02  118.059998  \n",
       "2020-06-03  118.529999  \n",
       "2020-06-04  116.050003  \n",
       "2020-06-05  118.330002  \n",
       "\n",
       "[6402 rows x 6 columns]>"
      ]
     },
     "execution_count": 7,
     "metadata": {},
     "output_type": "execute_result"
    }
   ],
   "source": [
    "PG.head"
   ]
  },
  {
   "cell_type": "code",
   "execution_count": 8,
   "metadata": {},
   "outputs": [
    {
     "data": {
      "text/html": [
       "<div>\n",
       "<style scoped>\n",
       "    .dataframe tbody tr th:only-of-type {\n",
       "        vertical-align: middle;\n",
       "    }\n",
       "\n",
       "    .dataframe tbody tr th {\n",
       "        vertical-align: top;\n",
       "    }\n",
       "\n",
       "    .dataframe thead th {\n",
       "        text-align: right;\n",
       "    }\n",
       "</style>\n",
       "<table border=\"1\" class=\"dataframe\">\n",
       "  <thead>\n",
       "    <tr style=\"text-align: right;\">\n",
       "      <th></th>\n",
       "      <th>High</th>\n",
       "      <th>Low</th>\n",
       "      <th>Open</th>\n",
       "      <th>Close</th>\n",
       "      <th>Volume</th>\n",
       "      <th>Adj Close</th>\n",
       "    </tr>\n",
       "    <tr>\n",
       "      <th>Date</th>\n",
       "      <th></th>\n",
       "      <th></th>\n",
       "      <th></th>\n",
       "      <th></th>\n",
       "      <th></th>\n",
       "      <th></th>\n",
       "    </tr>\n",
       "  </thead>\n",
       "  <tbody>\n",
       "    <tr>\n",
       "      <th>2020-06-01</th>\n",
       "      <td>117.500000</td>\n",
       "      <td>115.260002</td>\n",
       "      <td>116.000000</td>\n",
       "      <td>117.250000</td>\n",
       "      <td>5105600.0</td>\n",
       "      <td>117.250000</td>\n",
       "    </tr>\n",
       "    <tr>\n",
       "      <th>2020-06-02</th>\n",
       "      <td>118.139999</td>\n",
       "      <td>116.820000</td>\n",
       "      <td>117.070000</td>\n",
       "      <td>118.059998</td>\n",
       "      <td>6327900.0</td>\n",
       "      <td>118.059998</td>\n",
       "    </tr>\n",
       "    <tr>\n",
       "      <th>2020-06-03</th>\n",
       "      <td>119.190002</td>\n",
       "      <td>117.949997</td>\n",
       "      <td>118.099998</td>\n",
       "      <td>118.529999</td>\n",
       "      <td>6171000.0</td>\n",
       "      <td>118.529999</td>\n",
       "    </tr>\n",
       "    <tr>\n",
       "      <th>2020-06-04</th>\n",
       "      <td>118.830002</td>\n",
       "      <td>115.570000</td>\n",
       "      <td>118.000000</td>\n",
       "      <td>116.050003</td>\n",
       "      <td>6895800.0</td>\n",
       "      <td>116.050003</td>\n",
       "    </tr>\n",
       "    <tr>\n",
       "      <th>2020-06-05</th>\n",
       "      <td>118.830002</td>\n",
       "      <td>116.050003</td>\n",
       "      <td>116.250000</td>\n",
       "      <td>118.330002</td>\n",
       "      <td>7335600.0</td>\n",
       "      <td>118.330002</td>\n",
       "    </tr>\n",
       "  </tbody>\n",
       "</table>\n",
       "</div>"
      ],
      "text/plain": [
       "                  High         Low        Open       Close     Volume  \\\n",
       "Date                                                                    \n",
       "2020-06-01  117.500000  115.260002  116.000000  117.250000  5105600.0   \n",
       "2020-06-02  118.139999  116.820000  117.070000  118.059998  6327900.0   \n",
       "2020-06-03  119.190002  117.949997  118.099998  118.529999  6171000.0   \n",
       "2020-06-04  118.830002  115.570000  118.000000  116.050003  6895800.0   \n",
       "2020-06-05  118.830002  116.050003  116.250000  118.330002  7335600.0   \n",
       "\n",
       "             Adj Close  \n",
       "Date                    \n",
       "2020-06-01  117.250000  \n",
       "2020-06-02  118.059998  \n",
       "2020-06-03  118.529999  \n",
       "2020-06-04  116.050003  \n",
       "2020-06-05  118.330002  "
      ]
     },
     "execution_count": 8,
     "metadata": {},
     "output_type": "execute_result"
    }
   ],
   "source": [
    "PG.tail()"
   ]
  },
  {
   "cell_type": "code",
   "execution_count": 14,
   "metadata": {},
   "outputs": [
    {
     "name": "stdout",
     "output_type": "stream",
     "text": [
      "Date\n",
      "1995-01-03         NaN\n",
      "1995-01-04   -0.008016\n",
      "1995-01-05   -0.014142\n",
      "1995-01-06    0.002049\n",
      "1995-01-09   -0.004090\n",
      "                ...   \n",
      "2020-06-01    0.011473\n",
      "2020-06-02    0.006908\n",
      "2020-06-03    0.003981\n",
      "2020-06-04   -0.020923\n",
      "2020-06-05    0.019647\n",
      "Name: simple_return, Length: 6402, dtype: float64\n"
     ]
    }
   ],
   "source": [
    "PG['simple_return'] = (PG['Adj Close']/PG['Adj Close'].shift(1)) - 1\n",
    "print (PG['simple_return'])"
   ]
  },
  {
   "cell_type": "code",
   "execution_count": 18,
   "metadata": {},
   "outputs": [
    {
     "data": {
      "image/png": "[encoded data removed]",
      "text/plain": [
       "<Figure size 576x360 with 1 Axes>"
      ]
     },
     "metadata": {
      "needs_background": "light"
     },
     "output_type": "display_data"
    }
   ],
   "source": [
    "PG['simple_return'].plot(figsize=(8, 5))\n",
    "plt.show()"
   ]
  },
  {
   "cell_type": "code",
   "execution_count": 22,
   "metadata": {},
   "outputs": [
    {
     "data": {
      "text/plain": [
       "0.0005616645562278247"
      ]
     },
     "execution_count": 22,
     "metadata": {},
     "output_type": "execute_result"
    }
   ],
   "source": [
    "avg_returns_d = PG['simple_return'].mean()\n",
    "avg_returns_d"
   ]
  },
  {
   "cell_type": "code",
   "execution_count": 23,
   "metadata": {},
   "outputs": [
    {
     "data": {
      "text/plain": [
       "0.14041613905695616"
      ]
     },
     "execution_count": 23,
     "metadata": {},
     "output_type": "execute_result"
    }
   ],
   "source": [
    "avg_returns_a = PG['simple_return'].mean()* 250\n",
    "avg_returns_a"
   ]
  },
  {
   "cell_type": "code",
   "execution_count": 25,
   "metadata": {},
   "outputs": [
    {
     "name": "stdout",
     "output_type": "stream",
     "text": [
      "14.041999999999998 %\n"
     ]
    }
   ],
   "source": [
    "print (str(round(avg_returns_a, 5)*100) + ' %')"
   ]
  },
  {
   "cell_type": "code",
   "execution_count": null,
   "metadata": {},
   "outputs": [],
   "source": []
  },
  {
   "cell_type": "code",
   "execution_count": null,
   "metadata": {},
   "outputs": [],
   "source": []
  },
  {
   "cell_type": "code",
   "execution_count": null,
   "metadata": {},
   "outputs": [],
   "source": []
  }
 ],
 "metadata": {
  "kernelspec": {
   "display_name": "Python 3",
   "language": "python",
   "name": "python3"
  },
  "language_info": {
   "codemirror_mode": {
    "name": "ipython",
    "version": 3
   },
   "file_extension": ".py",
   "mimetype": "text/x-python",
   "name": "python",
   "nbconvert_exporter": "python",
   "pygments_lexer": "ipython3",
   "version": "3.6.9"
  }
 },
 "nbformat": 4,
 "nbformat_minor": 2
}
